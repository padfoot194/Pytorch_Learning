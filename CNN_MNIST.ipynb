{
  "nbformat": 4,
  "nbformat_minor": 0,
  "metadata": {
    "colab": {
      "provenance": [],
      "authorship_tag": "ABX9TyP2AjZsLQ+ijW7H0b3lE+3l",
      "include_colab_link": true
    },
    "kernelspec": {
      "name": "python3",
      "display_name": "Python 3"
    },
    "language_info": {
      "name": "python"
    }
  },
  "cells": [
    {
      "cell_type": "markdown",
      "metadata": {
        "id": "view-in-github",
        "colab_type": "text"
      },
      "source": [
        "<a href=\"https://colab.research.google.com/github/padfoot194/Pytorch_Learning/blob/main/CNN_MNIST.ipynb\" target=\"_parent\"><img src=\"https://colab.research.google.com/assets/colab-badge.svg\" alt=\"Open In Colab\"/></a>"
      ]
    },
    {
      "cell_type": "code",
      "execution_count": 1,
      "metadata": {
        "id": "XfEZBxTr08mr"
      },
      "outputs": [],
      "source": [
        "import torch\n",
        "import torch.nn as nn\n",
        "import torch.nn.functional as F\n",
        "from torch.utils.data import DataLoader\n",
        "from torchvision import datasets, transforms\n",
        "from torchvision.utils import make_grid\n",
        "\n",
        "import numpy as np\n",
        "import pandas as pd\n",
        "from sklearn.metrics import confusion_matrix\n",
        "import matplotlib.pyplot as plt\n",
        "%matplotlib inline"
      ]
    },
    {
      "cell_type": "code",
      "source": [
        "#Convert MNIST image files into a tensor of 4-Dimension\n",
        "#(no. of images, height, width, color channel)\n",
        "\n",
        "transform= transforms.ToTensor()"
      ],
      "metadata": {
        "id": "LW32qUHmXeuL"
      },
      "execution_count": 2,
      "outputs": []
    },
    {
      "cell_type": "code",
      "source": [
        "#Download and Train data\n",
        "train_data= datasets.MNIST(root='/CNN_data', train=True, download=True, transform=transform)"
      ],
      "metadata": {
        "id": "Btn1ArIcYU1T",
        "outputId": "d1d9e786-521a-4bf9-f6e9-a95aa08e2f79",
        "colab": {
          "base_uri": "https://localhost:8080/"
        }
      },
      "execution_count": 3,
      "outputs": [
        {
          "output_type": "stream",
          "name": "stderr",
          "text": [
            "100%|██████████| 9.91M/9.91M [00:00<00:00, 16.2MB/s]\n",
            "100%|██████████| 28.9k/28.9k [00:00<00:00, 481kB/s]\n",
            "100%|██████████| 1.65M/1.65M [00:00<00:00, 4.43MB/s]\n",
            "100%|██████████| 4.54k/4.54k [00:00<00:00, 6.37MB/s]\n"
          ]
        }
      ]
    },
    {
      "cell_type": "code",
      "source": [
        "#Download and Test data\n",
        "test_data= datasets.MNIST(root='/CNN_data', train=False, download=True, transform=transform)"
      ],
      "metadata": {
        "id": "u4vzomt7Y6uV"
      },
      "execution_count": 4,
      "outputs": []
    },
    {
      "cell_type": "code",
      "source": [
        "train_data"
      ],
      "metadata": {
        "id": "5iOYT8XhZJHw",
        "outputId": "ce4ca2c7-37c0-46fa-b03b-55329fdbb546",
        "colab": {
          "base_uri": "https://localhost:8080/"
        }
      },
      "execution_count": 5,
      "outputs": [
        {
          "output_type": "execute_result",
          "data": {
            "text/plain": [
              "Dataset MNIST\n",
              "    Number of datapoints: 60000\n",
              "    Root location: /CNN_data\n",
              "    Split: Train\n",
              "    StandardTransform\n",
              "Transform: ToTensor()"
            ]
          },
          "metadata": {},
          "execution_count": 5
        }
      ]
    },
    {
      "cell_type": "code",
      "source": [
        "test_data"
      ],
      "metadata": {
        "id": "HIvFpOszZNDE",
        "outputId": "ae46343c-aa0a-4865-f7e3-d5db78e7c7df",
        "colab": {
          "base_uri": "https://localhost:8080/"
        }
      },
      "execution_count": 6,
      "outputs": [
        {
          "output_type": "execute_result",
          "data": {
            "text/plain": [
              "Dataset MNIST\n",
              "    Number of datapoints: 10000\n",
              "    Root location: /CNN_data\n",
              "    Split: Test\n",
              "    StandardTransform\n",
              "Transform: ToTensor()"
            ]
          },
          "metadata": {},
          "execution_count": 6
        }
      ]
    },
    {
      "cell_type": "code",
      "source": [
        "#Create a small batchsize for images...let's say 10\n",
        "train_loader= DataLoader(train_data, batch_size=10, shuffle=True)\n",
        "test_loader= DataLoader(test_data, batch_size=10, shuffle=False)"
      ],
      "metadata": {
        "id": "B8nYTE-0ZrBM"
      },
      "execution_count": 7,
      "outputs": []
    },
    {
      "cell_type": "code",
      "source": [
        "# Define our CNN Model\n",
        "# Describe convolutional layer and what it's doing.(2 convolutional layer)\n",
        "\n",
        "#Conv2d(input_layer,output_layer,kernel_size,stride or step to move)\n",
        "conv1=nn.Conv2d(1,6,3,1)\n",
        "conv2=nn.Conv2d(6,16,3,1)"
      ],
      "metadata": {
        "id": "6Ha84TUsdCif"
      },
      "execution_count": 8,
      "outputs": []
    },
    {
      "cell_type": "code",
      "source": [
        "# Grab one MNIST record/an image\n",
        "\n",
        "for i, (X_train,y_train) in enumerate(train_data):\n",
        "  break"
      ],
      "metadata": {
        "id": "8gpCcPYLeGbM"
      },
      "execution_count": 9,
      "outputs": []
    },
    {
      "cell_type": "code",
      "source": [
        "X_train.shape"
      ],
      "metadata": {
        "id": "eoKmeUn-egik",
        "outputId": "f9a274a3-a618-4dec-bbd9-d41f9e89572c",
        "colab": {
          "base_uri": "https://localhost:8080/"
        }
      },
      "execution_count": 10,
      "outputs": [
        {
          "output_type": "execute_result",
          "data": {
            "text/plain": [
              "torch.Size([1, 28, 28])"
            ]
          },
          "metadata": {},
          "execution_count": 10
        }
      ]
    },
    {
      "cell_type": "code",
      "source": [
        "# So, we've pulled out one image of 28X28 size. So we've grabbed one image"
      ],
      "metadata": {
        "id": "DUdjpLjCerii"
      },
      "execution_count": 11,
      "outputs": []
    },
    {
      "cell_type": "code",
      "source": [
        "#Convert to 4D image\n",
        "\n",
        "x= X_train.view(1,1,28,28)"
      ],
      "metadata": {
        "id": "9xmbjtLce61G"
      },
      "execution_count": 12,
      "outputs": []
    },
    {
      "cell_type": "code",
      "source": [
        "#Let's perform our first convolution\n",
        "\n",
        "x=F.relu(conv1(x))"
      ],
      "metadata": {
        "id": "4lKWHaVvfDna"
      },
      "execution_count": 13,
      "outputs": []
    },
    {
      "cell_type": "code",
      "source": [
        "x.shape"
      ],
      "metadata": {
        "id": "na_UV2vcfSwX",
        "outputId": "e8e5c077-1e0c-48b8-dee5-2063dde7273c",
        "colab": {
          "base_uri": "https://localhost:8080/"
        }
      },
      "execution_count": 14,
      "outputs": [
        {
          "output_type": "execute_result",
          "data": {
            "text/plain": [
              "torch.Size([1, 6, 26, 26])"
            ]
          },
          "metadata": {},
          "execution_count": 14
        }
      ]
    },
    {
      "cell_type": "code",
      "source": [
        "# 1 single image, 6 is the filters we've asked for in conv1.\n",
        "#then comes the image size.it should be 28X28. but it is 26X26\n",
        "#We didn't do any padding.So,at the edge of the image,some datapoints are\n",
        "#lost.In real world problem,we should do padding to not lose any datapoint."
      ],
      "metadata": {
        "id": "j50qNBrofTiw"
      },
      "execution_count": 15,
      "outputs": []
    },
    {
      "cell_type": "code",
      "source": [
        "#Pass through the pooling layer.\n",
        "x= F.max_pool2d(x,2,2)  #kernel of 2 and stride of 2."
      ],
      "metadata": {
        "id": "EBTIqeMzgLEW"
      },
      "execution_count": 16,
      "outputs": []
    },
    {
      "cell_type": "code",
      "source": [
        "x.shape"
      ],
      "metadata": {
        "id": "0Mt3VHbSggbr",
        "outputId": "1fb5c9cc-3877-4f63-d592-dd1dcf4e337f",
        "colab": {
          "base_uri": "https://localhost:8080/"
        }
      },
      "execution_count": 17,
      "outputs": [
        {
          "output_type": "execute_result",
          "data": {
            "text/plain": [
              "torch.Size([1, 6, 13, 13])"
            ]
          },
          "metadata": {},
          "execution_count": 17
        }
      ]
    },
    {
      "cell_type": "code",
      "source": [
        "## 1 single image, 6 is the filters we've asked for in conv1.\n",
        "#then comes the pooling. informations are shrunk in pooling.\n",
        "#Thus a pooling layer is done."
      ],
      "metadata": {
        "id": "0J2zzuLIXjKC"
      },
      "execution_count": 18,
      "outputs": []
    },
    {
      "cell_type": "code",
      "source": [
        "#Do our second convolutional layer.\n",
        "\n",
        "x=F.relu(conv2(x))"
      ],
      "metadata": {
        "id": "NkDo3vLRXyr2"
      },
      "execution_count": 19,
      "outputs": []
    },
    {
      "cell_type": "code",
      "source": [
        "x.shape"
      ],
      "metadata": {
        "id": "VArIesjvYBen",
        "outputId": "19035a50-9cce-4051-b8b4-5efebd8b303b",
        "colab": {
          "base_uri": "https://localhost:8080/"
        }
      },
      "execution_count": 20,
      "outputs": [
        {
          "output_type": "execute_result",
          "data": {
            "text/plain": [
              "torch.Size([1, 16, 11, 11])"
            ]
          },
          "metadata": {},
          "execution_count": 20
        }
      ]
    },
    {
      "cell_type": "code",
      "source": [
        "#13X13 reduces to 11X11. Because no padding. Lose 2 pixels around the image."
      ],
      "metadata": {
        "id": "JRBVCCowYCzP"
      },
      "execution_count": 21,
      "outputs": []
    },
    {
      "cell_type": "code",
      "source": [
        "#Another pooling layer.\n",
        "x=F.max_pool2d(x,2,2)"
      ],
      "metadata": {
        "id": "TgrgqEktYQfA"
      },
      "execution_count": 22,
      "outputs": []
    },
    {
      "cell_type": "code",
      "source": [
        "x.shape"
      ],
      "metadata": {
        "id": "zRJqo4u9YWOl",
        "outputId": "83200674-6af3-4950-fbfe-3b4d0d6d1038",
        "colab": {
          "base_uri": "https://localhost:8080/"
        }
      },
      "execution_count": 23,
      "outputs": [
        {
          "output_type": "execute_result",
          "data": {
            "text/plain": [
              "torch.Size([1, 16, 5, 5])"
            ]
          },
          "metadata": {},
          "execution_count": 23
        }
      ]
    },
    {
      "cell_type": "code",
      "source": [
        "# Model class\n",
        "\n",
        "class ConvolutionalNetwork(nn.Module):\n",
        "  def __init__(self):\n",
        "    super().__init__()\n",
        "    self.conv1= nn.Conv2d(1,6,3,1)\n",
        "    self.conv2= nn.Conv2d(6,16,3,1)\n",
        "\n",
        "    #Fully connected layer\n",
        "    self.fc1= nn.Linear(5*5*16,120) #Flattening out to 120 neuron.\n",
        "    self.fc2= nn.Linear(120,84)     #ager output 120 ekhane input.\n",
        "    self.fc3= nn.Linear(84,10)      #ager output 84 ekhane input.\n",
        "\n",
        "  def forward(self,X):\n",
        "    X=F.relu(self,conv1(X))\n",
        "    X=F.max_pool2d(X,2,2)         # 2X2 kernel and stride 2\n",
        "\n",
        "    #Second pass\n",
        "    X=F.relu(self,conv2(X))\n",
        "    X=F.max_pool2d(X,2,2)         # 2X2 kernel and stride 2\n",
        "\n",
        "    #Re-view to flatten it out.\n",
        "    X= X.view(-1, 16*5*5)   #Negative 1 so that we can vary the batch size.\n",
        "\n",
        "    #Fully connected Layer\n",
        "    X= F.relu(self.fc1(X))\n",
        "    X= F.relu(self.fc2(X))\n",
        "    X= self.fc3(X)\n",
        "\n",
        "    return F.log_softmax(X, dim=1)"
      ],
      "metadata": {
        "id": "AY3YmNerYX-X"
      },
      "execution_count": 24,
      "outputs": []
    },
    {
      "cell_type": "code",
      "source": [
        "# Create an instance of our model\n",
        "\n",
        "torch.manual_seed(41)\n",
        "model= ConvolutionalNetwork()\n",
        "model"
      ],
      "metadata": {
        "id": "-mbsTCXVesAa",
        "outputId": "84b87f14-8cb9-4379-b458-d1bb293d8825",
        "colab": {
          "base_uri": "https://localhost:8080/"
        }
      },
      "execution_count": 25,
      "outputs": [
        {
          "output_type": "execute_result",
          "data": {
            "text/plain": [
              "ConvolutionalNetwork(\n",
              "  (conv1): Conv2d(1, 6, kernel_size=(3, 3), stride=(1, 1))\n",
              "  (conv2): Conv2d(6, 16, kernel_size=(3, 3), stride=(1, 1))\n",
              "  (fc1): Linear(in_features=400, out_features=120, bias=True)\n",
              "  (fc2): Linear(in_features=120, out_features=84, bias=True)\n",
              "  (fc3): Linear(in_features=84, out_features=10, bias=True)\n",
              ")"
            ]
          },
          "metadata": {},
          "execution_count": 25
        }
      ]
    },
    {
      "cell_type": "code",
      "source": [
        "# Loss function optimizer\n",
        "\n",
        "criterion= nn.CrossEntropyLoss()\n",
        "optimizer= torch.optim.Adam(model.parameters(), lr=0.001)\n",
        "#Smaller the lr, the longer it's gonna take to train."
      ],
      "metadata": {
        "id": "WeC4Wwf7e4LT"
      },
      "execution_count": 26,
      "outputs": []
    },
    {
      "cell_type": "code",
      "source": [],
      "metadata": {
        "id": "lUC5EQt4fTOj"
      },
      "execution_count": null,
      "outputs": []
    }
  ]
}