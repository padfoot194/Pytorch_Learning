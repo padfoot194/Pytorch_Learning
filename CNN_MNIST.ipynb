{
  "nbformat": 4,
  "nbformat_minor": 0,
  "metadata": {
    "colab": {
      "provenance": [],
      "authorship_tag": "ABX9TyN70jYfVVHkz/p9mNDhPUnE",
      "include_colab_link": true
    },
    "kernelspec": {
      "name": "python3",
      "display_name": "Python 3"
    },
    "language_info": {
      "name": "python"
    }
  },
  "cells": [
    {
      "cell_type": "markdown",
      "metadata": {
        "id": "view-in-github",
        "colab_type": "text"
      },
      "source": [
        "<a href=\"https://colab.research.google.com/github/padfoot194/Pytorch_Learning/blob/main/CNN_MNIST.ipynb\" target=\"_parent\"><img src=\"https://colab.research.google.com/assets/colab-badge.svg\" alt=\"Open In Colab\"/></a>"
      ]
    },
    {
      "cell_type": "code",
      "execution_count": 2,
      "metadata": {
        "id": "XfEZBxTr08mr"
      },
      "outputs": [],
      "source": [
        "import torch\n",
        "import torch.nn as nn\n",
        "import torch.nn.functional as F\n",
        "from torch.utils.data import DataLoader\n",
        "from torchvision import datasets, transforms\n",
        "from torchvision.utils import make_grid\n",
        "\n",
        "import numpy as np\n",
        "import pandas as pd\n",
        "from sklearn.metrics import confusion_matrix\n",
        "import matplotlib.pyplot as plt\n",
        "%matplotlib inline"
      ]
    },
    {
      "cell_type": "code",
      "source": [
        "#Convert MNIST image files into a tensor of 4-Dimension\n",
        "#(no. of images, height, width, color channel)\n",
        "\n",
        "transform= transforms.ToTensor()"
      ],
      "metadata": {
        "id": "LW32qUHmXeuL"
      },
      "execution_count": 4,
      "outputs": []
    },
    {
      "cell_type": "code",
      "source": [
        "#Download and Train data\n",
        "train_data= datasets.MNIST(root='/CNN_data', train=True, download=True, transform=transform)"
      ],
      "metadata": {
        "id": "Btn1ArIcYU1T"
      },
      "execution_count": 12,
      "outputs": []
    },
    {
      "cell_type": "code",
      "source": [
        "#Download and Test data\n",
        "test_data= datasets.MNIST(root='/CNN_data', train=False, download=True, transform=transform)"
      ],
      "metadata": {
        "id": "u4vzomt7Y6uV"
      },
      "execution_count": 13,
      "outputs": []
    },
    {
      "cell_type": "code",
      "source": [
        "train_data"
      ],
      "metadata": {
        "id": "5iOYT8XhZJHw",
        "outputId": "c1416bff-4b4f-40b1-d27b-812156dfb780",
        "colab": {
          "base_uri": "https://localhost:8080/"
        }
      },
      "execution_count": 14,
      "outputs": [
        {
          "output_type": "execute_result",
          "data": {
            "text/plain": [
              "Dataset MNIST\n",
              "    Number of datapoints: 60000\n",
              "    Root location: /CNN_data\n",
              "    Split: Train\n",
              "    StandardTransform\n",
              "Transform: ToTensor()"
            ]
          },
          "metadata": {},
          "execution_count": 14
        }
      ]
    },
    {
      "cell_type": "code",
      "source": [
        "test_data"
      ],
      "metadata": {
        "id": "HIvFpOszZNDE",
        "outputId": "a4d26965-3a5a-4aea-8571-20d1889a9c1e",
        "colab": {
          "base_uri": "https://localhost:8080/"
        }
      },
      "execution_count": 15,
      "outputs": [
        {
          "output_type": "execute_result",
          "data": {
            "text/plain": [
              "Dataset MNIST\n",
              "    Number of datapoints: 10000\n",
              "    Root location: /CNN_data\n",
              "    Split: Test\n",
              "    StandardTransform\n",
              "Transform: ToTensor()"
            ]
          },
          "metadata": {},
          "execution_count": 15
        }
      ]
    },
    {
      "cell_type": "code",
      "source": [
        "#Create a small batchsize for images...let's say 10\n",
        "train_loader= DataLoader(train_data, batch_size=10, shuffle=True)\n",
        "test_loader= DataLoader(test_data, batch_size=10, shuffle=False)"
      ],
      "metadata": {
        "id": "B8nYTE-0ZrBM"
      },
      "execution_count": 16,
      "outputs": []
    },
    {
      "cell_type": "code",
      "source": [
        "# Define our CNN Model\n",
        "# Describe convolutional layer and what it's doing.(2 convolutional layer)\n",
        "\n",
        "#Conv2d(input_layer,output_layer,kernel_size,stride or step to move)\n",
        "conv1=nn.Conv2d(1,6,3,1)\n",
        "conv2=nn.Conv2d(6,16,3,1)"
      ],
      "metadata": {
        "id": "6Ha84TUsdCif"
      },
      "execution_count": 17,
      "outputs": []
    },
    {
      "cell_type": "code",
      "source": [
        "# Grab one MNIST record/an image\n",
        "\n",
        "for i, (X_train,y_train) in enumerate(train_data):\n",
        "  break"
      ],
      "metadata": {
        "id": "8gpCcPYLeGbM"
      },
      "execution_count": 18,
      "outputs": []
    },
    {
      "cell_type": "code",
      "source": [
        "X_train.shape"
      ],
      "metadata": {
        "id": "eoKmeUn-egik",
        "outputId": "dce4d6a8-ecfe-4184-a722-2a72c628d764",
        "colab": {
          "base_uri": "https://localhost:8080/"
        }
      },
      "execution_count": 19,
      "outputs": [
        {
          "output_type": "execute_result",
          "data": {
            "text/plain": [
              "torch.Size([1, 28, 28])"
            ]
          },
          "metadata": {},
          "execution_count": 19
        }
      ]
    },
    {
      "cell_type": "code",
      "source": [
        "# So, we've pulled out one image of 28X28 size. So we've grabbed one image"
      ],
      "metadata": {
        "id": "DUdjpLjCerii"
      },
      "execution_count": 20,
      "outputs": []
    },
    {
      "cell_type": "code",
      "source": [
        "#Convert to 4D image\n",
        "\n",
        "x= X_train.view(1,1,28,28)"
      ],
      "metadata": {
        "id": "9xmbjtLce61G"
      },
      "execution_count": 21,
      "outputs": []
    },
    {
      "cell_type": "code",
      "source": [
        "#Let's perform our first convolution\n",
        "\n",
        "x=F.relu(conv1(x))"
      ],
      "metadata": {
        "id": "4lKWHaVvfDna"
      },
      "execution_count": 22,
      "outputs": []
    },
    {
      "cell_type": "code",
      "source": [
        "x.shape"
      ],
      "metadata": {
        "id": "na_UV2vcfSwX",
        "outputId": "25ed4983-2604-4d69-dc74-93f26cdde552",
        "colab": {
          "base_uri": "https://localhost:8080/"
        }
      },
      "execution_count": 24,
      "outputs": [
        {
          "output_type": "execute_result",
          "data": {
            "text/plain": [
              "torch.Size([1, 6, 26, 26])"
            ]
          },
          "metadata": {},
          "execution_count": 24
        }
      ]
    },
    {
      "cell_type": "code",
      "source": [
        "# 1 single image, 6 is the filters we've asked for in conv1.\n",
        "#then comes the image size.it should be 28X28. but it is 26X26\n",
        "#We didn't do any padding.So,at the edge of the image,some datapoints are\n",
        "#lost.In real world problem,we should do padding to not lose any datapoint."
      ],
      "metadata": {
        "id": "j50qNBrofTiw"
      },
      "execution_count": 25,
      "outputs": []
    },
    {
      "cell_type": "code",
      "source": [
        "#Pass through the pooling layer.\n",
        "x= F.max_pool2d(x,2,2)  #kernel of 2 and stride of 2."
      ],
      "metadata": {
        "id": "EBTIqeMzgLEW"
      },
      "execution_count": 26,
      "outputs": []
    },
    {
      "cell_type": "code",
      "source": [],
      "metadata": {
        "id": "0Mt3VHbSggbr"
      },
      "execution_count": null,
      "outputs": []
    }
  ]
}