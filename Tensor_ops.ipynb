{
  "nbformat": 4,
  "nbformat_minor": 0,
  "metadata": {
    "colab": {
      "provenance": [],
      "authorship_tag": "ABX9TyONGzJn4rCqq1gprBCF7NgR",
      "include_colab_link": true
    },
    "kernelspec": {
      "name": "python3",
      "display_name": "Python 3"
    },
    "language_info": {
      "name": "python"
    }
  },
  "cells": [
    {
      "cell_type": "markdown",
      "metadata": {
        "id": "view-in-github",
        "colab_type": "text"
      },
      "source": [
        "<a href=\"https://colab.research.google.com/github/padfoot194/Pytorch_Learning/blob/main/Tensor_ops.ipynb\" target=\"_parent\"><img src=\"https://colab.research.google.com/assets/colab-badge.svg\" alt=\"Open In Colab\"/></a>"
      ]
    },
    {
      "cell_type": "code",
      "execution_count": null,
      "metadata": {
        "id": "rhqSVQFD63Gb"
      },
      "outputs": [],
      "source": [
        "import torch"
      ]
    },
    {
      "cell_type": "code",
      "source": [
        "my_torch= torch.arange(10)\n",
        "my_torch"
      ],
      "metadata": {
        "id": "AqmVgNF97CbU",
        "outputId": "bb1a6b73-7281-45b3-9f56-1270d5801933",
        "colab": {
          "base_uri": "https://localhost:8080/"
        }
      },
      "execution_count": null,
      "outputs": [
        {
          "output_type": "execute_result",
          "data": {
            "text/plain": [
              "tensor([0, 1, 2, 3, 4, 5, 6, 7, 8, 9])"
            ]
          },
          "metadata": {},
          "execution_count": 3
        }
      ]
    },
    {
      "cell_type": "code",
      "source": [
        "#Reshape and view\n",
        "my_torch= my_torch.reshape(2,5)\n",
        "my_torch"
      ],
      "metadata": {
        "id": "OtUS2g8V7ZHm",
        "outputId": "991efa5a-a7d8-40d6-eb7d-3b30c517beb4",
        "colab": {
          "base_uri": "https://localhost:8080/"
        }
      },
      "execution_count": null,
      "outputs": [
        {
          "output_type": "execute_result",
          "data": {
            "text/plain": [
              "tensor([[0, 1, 2, 3, 4],\n",
              "        [5, 6, 7, 8, 9]])"
            ]
          },
          "metadata": {},
          "execution_count": 4
        }
      ]
    },
    {
      "cell_type": "code",
      "source": [
        "#Reshape if we don't know the number of items\n",
        "my_torch2= torch.arange(12)\n",
        "my_torch2"
      ],
      "metadata": {
        "id": "m21Bw5YmdB_T",
        "outputId": "1239a7db-5a23-4c1f-b634-b02d690515ab",
        "colab": {
          "base_uri": "https://localhost:8080/"
        }
      },
      "execution_count": null,
      "outputs": [
        {
          "output_type": "execute_result",
          "data": {
            "text/plain": [
              "tensor([ 0,  1,  2,  3,  4,  5,  6,  7,  8,  9, 10, 11])"
            ]
          },
          "metadata": {},
          "execution_count": 7
        }
      ]
    },
    {
      "cell_type": "code",
      "source": [
        "my_torch2.reshape(3,-1)"
      ],
      "metadata": {
        "id": "JpRkMljwdlQh",
        "outputId": "e743123e-655f-480d-f824-20dff6dddfc5",
        "colab": {
          "base_uri": "https://localhost:8080/"
        }
      },
      "execution_count": null,
      "outputs": [
        {
          "output_type": "execute_result",
          "data": {
            "text/plain": [
              "tensor([[ 0,  1,  2,  3],\n",
              "        [ 4,  5,  6,  7],\n",
              "        [ 8,  9, 10, 11]])"
            ]
          },
          "metadata": {},
          "execution_count": 9
        }
      ]
    },
    {
      "cell_type": "code",
      "source": [
        "my_torch3= torch.arange(10)\n",
        "my_torch3"
      ],
      "metadata": {
        "id": "SfmdpqI4duKE",
        "outputId": "a277a139-9577-480f-ac65-7f6397966149",
        "colab": {
          "base_uri": "https://localhost:8080/"
        }
      },
      "execution_count": null,
      "outputs": [
        {
          "output_type": "execute_result",
          "data": {
            "text/plain": [
              "tensor([0, 1, 2, 3, 4, 5, 6, 7, 8, 9])"
            ]
          },
          "metadata": {},
          "execution_count": 10
        }
      ]
    },
    {
      "cell_type": "code",
      "source": [
        "my_torch4= my_torch3.view(2,5)\n",
        "my_torch4"
      ],
      "metadata": {
        "id": "1eOckaiCeQgF",
        "outputId": "3fae50e7-743f-44bf-d5d5-802765ba64b8",
        "colab": {
          "base_uri": "https://localhost:8080/"
        }
      },
      "execution_count": null,
      "outputs": [
        {
          "output_type": "execute_result",
          "data": {
            "text/plain": [
              "tensor([[0, 1, 2, 3, 4],\n",
              "        [5, 6, 7, 8, 9]])"
            ]
          },
          "metadata": {},
          "execution_count": 11
        }
      ]
    },
    {
      "cell_type": "code",
      "source": [
        "#So, view and reshape are kinda similar"
      ],
      "metadata": {
        "id": "DKuKsuozea1l"
      },
      "execution_count": null,
      "outputs": []
    },
    {
      "cell_type": "code",
      "source": [
        "#With reshape and view, they will update\n",
        "my_torch5= torch.arange(10)\n",
        "my_torch5"
      ],
      "metadata": {
        "id": "3kFoIg1eehA5",
        "outputId": "ed21ae4e-1fe4-4b34-ed53-95baaa8cc3e9",
        "colab": {
          "base_uri": "https://localhost:8080/"
        }
      },
      "execution_count": null,
      "outputs": [
        {
          "output_type": "execute_result",
          "data": {
            "text/plain": [
              "tensor([0, 1, 2, 3, 4, 5, 6, 7, 8, 9])"
            ]
          },
          "metadata": {},
          "execution_count": 13
        }
      ]
    },
    {
      "cell_type": "code",
      "source": [
        "my_torch6= my_torch5.reshape(2,5)\n",
        "my_torch6"
      ],
      "metadata": {
        "id": "T3xqQoyxe8Mm",
        "outputId": "c70c8a3b-ce9d-485d-a95e-651b0dd11454",
        "colab": {
          "base_uri": "https://localhost:8080/"
        }
      },
      "execution_count": null,
      "outputs": [
        {
          "output_type": "execute_result",
          "data": {
            "text/plain": [
              "tensor([[0, 1, 2, 3, 4],\n",
              "        [5, 6, 7, 8, 9]])"
            ]
          },
          "metadata": {},
          "execution_count": 16
        }
      ]
    },
    {
      "cell_type": "code",
      "source": [
        "my_torch5[1]= 69\n",
        "my_torch5"
      ],
      "metadata": {
        "id": "rAQPMXFtfHdL",
        "outputId": "0f08ad83-1acc-4557-97e8-ee75bda492f4",
        "colab": {
          "base_uri": "https://localhost:8080/"
        }
      },
      "execution_count": null,
      "outputs": [
        {
          "output_type": "execute_result",
          "data": {
            "text/plain": [
              "tensor([ 0, 69,  2,  3,  4,  5,  6,  7,  8,  9])"
            ]
          },
          "metadata": {},
          "execution_count": 17
        }
      ]
    },
    {
      "cell_type": "code",
      "source": [
        "my_torch6"
      ],
      "metadata": {
        "id": "Gj7yli6BfTdm",
        "outputId": "0dea68a2-08dc-4c9e-efc5-93aa4180277b",
        "colab": {
          "base_uri": "https://localhost:8080/"
        }
      },
      "execution_count": null,
      "outputs": [
        {
          "output_type": "execute_result",
          "data": {
            "text/plain": [
              "tensor([[ 0, 69,  2,  3,  4],\n",
              "        [ 5,  6,  7,  8,  9]])"
            ]
          },
          "metadata": {},
          "execution_count": 18
        }
      ]
    },
    {
      "cell_type": "code",
      "source": [
        "#Slices\n",
        "my_torch7= torch.arange(10)\n",
        "my_torch7"
      ],
      "metadata": {
        "id": "A-i6hfpMfYRn",
        "outputId": "795a92f5-8271-4618-aedb-2ac0eec52563",
        "colab": {
          "base_uri": "https://localhost:8080/"
        }
      },
      "execution_count": null,
      "outputs": [
        {
          "output_type": "execute_result",
          "data": {
            "text/plain": [
              "tensor([0, 1, 2, 3, 4, 5, 6, 7, 8, 9])"
            ]
          },
          "metadata": {},
          "execution_count": 19
        }
      ]
    },
    {
      "cell_type": "code",
      "source": [
        "#Grab a specific item\n",
        "my_torch7[7]"
      ],
      "metadata": {
        "id": "N5xJ1-25hPo6",
        "outputId": "503d3d46-5eba-495c-f491-2b2a22c3ffe0",
        "colab": {
          "base_uri": "https://localhost:8080/"
        }
      },
      "execution_count": null,
      "outputs": [
        {
          "output_type": "execute_result",
          "data": {
            "text/plain": [
              "tensor(7)"
            ]
          },
          "metadata": {},
          "execution_count": 20
        }
      ]
    },
    {
      "cell_type": "code",
      "source": [
        "#So this doesn't grab a number. Rather it grabs a tensor."
      ],
      "metadata": {
        "id": "VbKMo1UcjZTw"
      },
      "execution_count": null,
      "outputs": []
    },
    {
      "cell_type": "code",
      "source": [
        "#Grab a slice\n",
        "my_torch8= my_torch7.reshape(5,2)\n",
        "my_torch8"
      ],
      "metadata": {
        "id": "m7LyXPUMhVR0",
        "outputId": "7d99e215-b777-4db9-e337-edf5d0afb595",
        "colab": {
          "base_uri": "https://localhost:8080/"
        }
      },
      "execution_count": null,
      "outputs": [
        {
          "output_type": "execute_result",
          "data": {
            "text/plain": [
              "tensor([[0, 1],\n",
              "        [2, 3],\n",
              "        [4, 5],\n",
              "        [6, 7],\n",
              "        [8, 9]])"
            ]
          },
          "metadata": {},
          "execution_count": 21
        }
      ]
    },
    {
      "cell_type": "code",
      "source": [
        "my_torch8[:,1]"
      ],
      "metadata": {
        "id": "X3Ye0ylzhkd6",
        "outputId": "5a425a8d-0bef-4d23-e09f-ca80e8a7259f",
        "colab": {
          "base_uri": "https://localhost:8080/"
        }
      },
      "execution_count": null,
      "outputs": [
        {
          "output_type": "execute_result",
          "data": {
            "text/plain": [
              "tensor([1, 3, 5, 7, 9])"
            ]
          },
          "metadata": {},
          "execution_count": 22
        }
      ]
    },
    {
      "cell_type": "code",
      "source": [
        "#To return a column\n",
        "my_torch8[:,1:]"
      ],
      "metadata": {
        "id": "z3e9sjnChqbu",
        "outputId": "d085655c-0855-41d2-c3fc-4c52bc54d583",
        "colab": {
          "base_uri": "https://localhost:8080/"
        }
      },
      "execution_count": null,
      "outputs": [
        {
          "output_type": "execute_result",
          "data": {
            "text/plain": [
              "tensor([[1],\n",
              "        [3],\n",
              "        [5],\n",
              "        [7],\n",
              "        [9]])"
            ]
          },
          "metadata": {},
          "execution_count": 23
        }
      ]
    },
    {
      "cell_type": "code",
      "source": [],
      "metadata": {
        "id": "1ONTRohQh4ih"
      },
      "execution_count": null,
      "outputs": []
    }
  ]
}